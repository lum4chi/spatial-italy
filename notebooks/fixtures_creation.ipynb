{
 "cells": [
  {
   "cell_type": "markdown",
   "metadata": {},
   "source": [
    "Setup"
   ]
  },
  {
   "cell_type": "code",
   "execution_count": 1,
   "metadata": {},
   "outputs": [
    {
     "name": "stderr",
     "output_type": "stream",
     "text": [
      "2023-08-02 16:03:43.964 WARNING streamlit.runtime.caching.cache_data_api: No runtime found, using MemoryCacheStorageManager\n"
     ]
    }
   ],
   "source": [
    "from spatial_italy.data import (\n",
    "    request_confini_amministrativi_comuni,\n",
    "    request_POSAS_2023_it_Comuni,\n",
    ")\n",
    "import json\n",
    "import numpy as np"
   ]
  },
  {
   "cell_type": "markdown",
   "metadata": {},
   "source": [
    "# Data"
   ]
  },
  {
   "cell_type": "code",
   "execution_count": 2,
   "metadata": {},
   "outputs": [],
   "source": [
    "COMUNI = [\n",
    "    \"Milano\", \n",
    "    \"Roma\", \n",
    "    \"Napoli\", \n",
    "    \"Castro\",  # included to test a duplicate municipality names\n",
    "    \"Vandoies\",  # included to test bilingual names\n",
    "    ]"
   ]
  },
  {
   "cell_type": "markdown",
   "metadata": {},
   "source": [
    "# Fixture"
   ]
  },
  {
   "cell_type": "markdown",
   "metadata": {},
   "source": [
    "## POSAS_2023_it_Comuni"
   ]
  },
  {
   "cell_type": "code",
   "execution_count": 5,
   "metadata": {},
   "outputs": [
    {
     "data": {
      "text/plain": [
       "{'index': [181066,\n",
       "  181124,\n",
       "  193612,\n",
       "  193670,\n",
       "  281026,\n",
       "  281084,\n",
       "  482170,\n",
       "  482228,\n",
       "  521440,\n",
       "  521498,\n",
       "  618646,\n",
       "  618704],\n",
       " 'columns': ['Codice comune',\n",
       "  'Comune',\n",
       "  'Età',\n",
       "  'Totale maschi',\n",
       "  'Totale femmine'],\n",
       " 'data': [[15146, 'Milano', 16, 6430, 5957],\n",
       "  [15146, 'Milano', 74, 5691, 7572],\n",
       "  [16065, 'Castro', 16, 4, 5],\n",
       "  [16065, 'Castro', 74, 11, 17],\n",
       "  [21110, 'Vandoies', 16, 14, 13],\n",
       "  [21110, 'Vandoies', 74, 9, 13],\n",
       "  [58091, 'Roma', 16, 13884, 13081],\n",
       "  [58091, 'Roma', 74, 12599, 16446],\n",
       "  [63049, 'Napoli', 16, 5283, 4962],\n",
       "  [63049, 'Napoli', 74, 4318, 5340],\n",
       "  [75096, 'Castro', 16, 10, 9],\n",
       "  [75096, 'Castro', 74, 28, 12]],\n",
       " 'index_names': [None],\n",
       " 'column_names': [None]}"
      ]
     },
     "execution_count": 5,
     "metadata": {},
     "output_type": "execute_result"
    }
   ],
   "source": [
    "# Subset only for 2 age bins\n",
    "df = request_POSAS_2023_it_Comuni()\n",
    "sample = df[(df[\"Età\"].isin([16,74])) & (df.Comune.isin(COMUNI))].to_dict(orient=\"tight\")\n",
    "sample"
   ]
  },
  {
   "cell_type": "markdown",
   "metadata": {},
   "source": [
    "## Confini amministrativi comuni"
   ]
  },
  {
   "cell_type": "code",
   "execution_count": 3,
   "metadata": {},
   "outputs": [],
   "source": [
    "gdf = request_confini_amministrativi_comuni()\n",
    "sample = gdf[gdf.COMUNE.isin(COMUNI)]\n",
    "sample.loc[:, \"geometry\"] = sample.simplify(1e4)  # Serialize less points\n",
    "sample = json.loads(sample.to_json())\n",
    "sample"
   ]
  },
  {
   "cell_type": "markdown",
   "metadata": {},
   "source": [
    "## Sample upload files"
   ]
  },
  {
   "cell_type": "code",
   "execution_count": 25,
   "metadata": {},
   "outputs": [],
   "source": [
    "gdf = request_confini_amministrativi_comuni()\n",
    "sample = gdf[gdf.COMUNE.isin(COMUNI)]\n",
    "# Only key column\n",
    "sample = sample[[\"PRO_COM\"]]\n",
    "# Key column with different name from Istat standard\n",
    "sample = sample.rename(columns={\"PRO_COM\":\"Codice comune\"})"
   ]
  },
  {
   "cell_type": "code",
   "execution_count": 26,
   "metadata": {},
   "outputs": [],
   "source": [
    "# Random numerical values with NaN\n",
    "sample = sample.assign(Random_value_1=np.random.randint(1, 10, len(sample)))\n",
    "sample = sample.assign(Random_value_2=np.random.randint(100, 1000, len(sample)))\n",
    "sample.loc[np.random.choice(sample.index), \"Random_value_1\"] = np.nan\n",
    "sample.loc[np.random.choice(sample.index), \"Random_value_2\"] = np.nan"
   ]
  },
  {
   "cell_type": "code",
   "execution_count": 27,
   "metadata": {},
   "outputs": [],
   "source": [
    "sample.to_csv(\"../tests/fixtures/upload_table_sample.csv\", index=False)\n",
    "sample.to_excel(\"../tests/fixtures/upload_table_sample.xlsx\", index=False)"
   ]
  },
  {
   "cell_type": "code",
   "execution_count": null,
   "metadata": {},
   "outputs": [],
   "source": []
  }
 ],
 "metadata": {
  "kernelspec": {
   "display_name": "spatial-italy-VdZKVYOf-py3.11",
   "language": "python",
   "name": "python3"
  },
  "language_info": {
   "codemirror_mode": {
    "name": "ipython",
    "version": 3
   },
   "file_extension": ".py",
   "mimetype": "text/x-python",
   "name": "python",
   "nbconvert_exporter": "python",
   "pygments_lexer": "ipython3",
   "version": "3.11.4"
  },
  "orig_nbformat": 4
 },
 "nbformat": 4,
 "nbformat_minor": 2
}
