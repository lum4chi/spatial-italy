{
 "cells": [
  {
   "cell_type": "markdown",
   "metadata": {},
   "source": [
    "Setup"
   ]
  },
  {
   "cell_type": "code",
   "execution_count": 11,
   "metadata": {},
   "outputs": [],
   "source": [
    "from spatial_italy.data import (\n",
    "    request_confini_amministrativi_comuni,\n",
    "    request_POSAS_2023_it_Comuni,\n",
    ")\n",
    "import geopandas as gpd\n",
    "import json"
   ]
  },
  {
   "cell_type": "markdown",
   "metadata": {},
   "source": [
    "# Data"
   ]
  },
  {
   "cell_type": "code",
   "execution_count": 12,
   "metadata": {},
   "outputs": [],
   "source": [
    "COMUNI = [\n",
    "    \"Milano\", \n",
    "    \"Roma\", \n",
    "    \"Napoli\", \n",
    "    \"Castro\",  # included to test a duplicate municipality names\n",
    "    \"Vandoies\",  # included to test bilingual names\n",
    "    ]"
   ]
  },
  {
   "cell_type": "markdown",
   "metadata": {},
   "source": [
    "# Fixture"
   ]
  },
  {
   "cell_type": "markdown",
   "metadata": {},
   "source": [
    "## POSAS_2023_it_Comuni"
   ]
  },
  {
   "cell_type": "code",
   "execution_count": 4,
   "metadata": {},
   "outputs": [
    {
     "data": {
      "text/plain": [
       "{'index': [181066,\n",
       "  181124,\n",
       "  193612,\n",
       "  193670,\n",
       "  281026,\n",
       "  281084,\n",
       "  482170,\n",
       "  482228,\n",
       "  521440,\n",
       "  521498,\n",
       "  618646,\n",
       "  618704],\n",
       " 'columns': ['Codice comune',\n",
       "  'Comune',\n",
       "  'Età',\n",
       "  'Totale maschi',\n",
       "  'Totale femmine'],\n",
       " 'data': [[15146, 'Milano', 16, 6430, 5957],\n",
       "  [15146, 'Milano', 74, 5691, 7572],\n",
       "  [16065, 'Castro', 16, 4, 5],\n",
       "  [16065, 'Castro', 74, 11, 17],\n",
       "  [21110, 'Vandoies', 16, 14, 13],\n",
       "  [21110, 'Vandoies', 74, 9, 13],\n",
       "  [58091, 'Roma', 16, 13884, 13081],\n",
       "  [58091, 'Roma', 74, 12599, 16446],\n",
       "  [63049, 'Napoli', 16, 5283, 4962],\n",
       "  [63049, 'Napoli', 74, 4318, 5340],\n",
       "  [75096, 'Castro', 16, 10, 9],\n",
       "  [75096, 'Castro', 74, 28, 12]],\n",
       " 'index_names': [None],\n",
       " 'column_names': [None]}"
      ]
     },
     "execution_count": 4,
     "metadata": {},
     "output_type": "execute_result"
    }
   ],
   "source": [
    "# Subset only for 2 age bins\n",
    "df = request_POSAS_2023_it_Comuni()\n",
    "sample = df[(df[\"Età\"].isin([16,74])) & (df.Comune.isin(COMUNI))].to_dict(orient=\"tight\")\n",
    "sample"
   ]
  },
  {
   "cell_type": "markdown",
   "metadata": {},
   "source": [
    "## Confini amministrativi comuni"
   ]
  },
  {
   "cell_type": "code",
   "execution_count": 13,
   "metadata": {},
   "outputs": [
    {
     "data": {
      "text/plain": [
       "{'type': 'FeatureCollection',\n",
       " 'features': [{'id': '430',\n",
       "   'type': 'Feature',\n",
       "   'properties': {'COD_RIP': 2,\n",
       "    'COD_REG': 4,\n",
       "    'COD_PROV': 21,\n",
       "    'COD_CM': 0,\n",
       "    'COD_UTS': 21,\n",
       "    'PRO_COM': 21110,\n",
       "    'PRO_COM_T': '021110',\n",
       "    'COMUNE': 'Vandoies',\n",
       "    'COMUNE_A': 'Vintl',\n",
       "    'CC_UTS': 0,\n",
       "    'Shape_Leng': 60124.5951433},\n",
       "   'geometry': {'type': 'Polygon',\n",
       "    'coordinates': [[[708188.5301000001, 5203226.8192],\n",
       "      [708362.4009999996, 5188786.8344],\n",
       "      [711254.585, 5186030.8365],\n",
       "      [705157.9670000002, 5187876.336200001],\n",
       "      [698950.1639, 5200366.3248],\n",
       "      [708188.5301000001, 5203226.8192]]]}},\n",
       "  {'id': '1949',\n",
       "   'type': 'Feature',\n",
       "   'properties': {'COD_RIP': 1,\n",
       "    'COD_REG': 3,\n",
       "    'COD_PROV': 15,\n",
       "    'COD_CM': 215,\n",
       "    'COD_UTS': 215,\n",
       "    'PRO_COM': 15146,\n",
       "    'PRO_COM_T': '015146',\n",
       "    'COMUNE': 'Milano',\n",
       "    'COMUNE_A': None,\n",
       "    'CC_UTS': 1,\n",
       "    'Shape_Leng': 79382.9940082},\n",
       "   'geometry': {'type': 'Polygon',\n",
       "    'coordinates': [[[513714.53839999996, 5042508.055600001],\n",
       "      [521709.6897, 5039152.573000001],\n",
       "      [515069.93039999995, 5025972.139799999],\n",
       "      [503349.39190000016, 5034467.8478999995],\n",
       "      [513714.53839999996, 5042508.055600001]]]}},\n",
       "  {'id': '2072',\n",
       "   'type': 'Feature',\n",
       "   'properties': {'COD_RIP': 1,\n",
       "    'COD_REG': 3,\n",
       "    'COD_PROV': 16,\n",
       "    'COD_CM': 0,\n",
       "    'COD_UTS': 16,\n",
       "    'PRO_COM': 16065,\n",
       "    'PRO_COM_T': '016065',\n",
       "    'COMUNE': 'Castro',\n",
       "    'COMUNE_A': None,\n",
       "    'CC_UTS': 0,\n",
       "    'Shape_Leng': 7589.85709697},\n",
       "   'geometry': {'type': 'Polygon',\n",
       "    'coordinates': [[[582769.2432000004, 5072848.3155000005],\n",
       "      [583865.2367000002, 5072551.318299999],\n",
       "      [582687.2434999999, 5071088.328299999],\n",
       "      [581770.2525000004, 5073429.3125],\n",
       "      [582769.2432000004, 5072848.3155000005]]]}},\n",
       "  {'id': '4796',\n",
       "   'type': 'Feature',\n",
       "   'properties': {'COD_RIP': 3,\n",
       "    'COD_REG': 12,\n",
       "    'COD_PROV': 58,\n",
       "    'COD_CM': 258,\n",
       "    'COD_UTS': 258,\n",
       "    'PRO_COM': 58091,\n",
       "    'PRO_COM_T': '058091',\n",
       "    'COMUNE': 'Roma',\n",
       "    'COMUNE_A': None,\n",
       "    'CC_UTS': 1,\n",
       "    'Shape_Leng': 279799.733172},\n",
       "   'geometry': {'type': 'MultiPolygon',\n",
       "    'coordinates': [[[[770434.4868999999, 4625676.636399999],\n",
       "       [770419.8887, 4625622.495999999],\n",
       "       [770417.0312000001, 4625623.130999999],\n",
       "       [770434.4868999999, 4625676.636399999]]],\n",
       "     [[[770196.8558, 4625730.3774],\n",
       "       [770169.1600000001, 4625633.085100001],\n",
       "       [770166.6149000004, 4625634.415899999],\n",
       "       [770196.8558, 4625730.3774]]],\n",
       "     [[[769745.5120000001, 4625758.6107],\n",
       "       [769759.6623999998, 4625751.8684],\n",
       "       [769728.4067000002, 4625761.857000001],\n",
       "       [769745.5120000001, 4625758.6107]]],\n",
       "     [[[770434.4868999999, 4625676.636399999],\n",
       "       [776488.7397999996, 4666724.043],\n",
       "       [794705.1940000001, 4664510.135399999],\n",
       "       [819987.6591999996, 4642905.863700001],\n",
       "       [797657.4439000003, 4636011.439200001],\n",
       "       [799588.5493999999, 4621634.9628],\n",
       "       [770434.4868999999, 4625676.636399999]],\n",
       "      [[786799.1048999997, 4645117.684800001],\n",
       "       [786193.7819999997, 4645157.9935],\n",
       "       [785912.8291999996, 4644669.944499999],\n",
       "       [786722.4793999996, 4644501.0393],\n",
       "       [786799.1048999997, 4645117.684800001]]],\n",
       "     [[[773307.9467000002, 4670723.6862],\n",
       "       [775830.2657000003, 4668785.8828],\n",
       "       [775716.1940000001, 4667685.2969],\n",
       "       [771325.5010000002, 4667473.772500001],\n",
       "       [773307.9467000002, 4670723.6862]]]]}},\n",
       "  {'id': '5181',\n",
       "   'type': 'Feature',\n",
       "   'properties': {'COD_RIP': 4,\n",
       "    'COD_REG': 15,\n",
       "    'COD_PROV': 63,\n",
       "    'COD_CM': 263,\n",
       "    'COD_UTS': 263,\n",
       "    'PRO_COM': 63049,\n",
       "    'PRO_COM_T': '063049',\n",
       "    'COMUNE': 'Napoli',\n",
       "    'COMUNE_A': None,\n",
       "    'CC_UTS': 1,\n",
       "    'Shape_Leng': 66700.0022767},\n",
       "   'geometry': {'type': 'MultiPolygon',\n",
       "    'coordinates': [[[[937674.6979999999, 4528649.4350000005],\n",
       "       [937737.1826999998, 4528638.746200001],\n",
       "       [937680.6588000003, 4528544.385],\n",
       "       [937648.1924999999, 4528572.110099999],\n",
       "       [937674.6979999999, 4528649.4350000005]]],\n",
       "     [[[935240.1772999996, 4530273.402899999],\n",
       "       [935231.5509000001, 4530258.4321],\n",
       "       [935217.7845999999, 4530254.7497000005],\n",
       "       [935228.5581, 4530272.5889],\n",
       "       [935240.1772999996, 4530273.402899999]]],\n",
       "     [[[940380.6917000003, 4532519.6328],\n",
       "       [940418.9422000004, 4532560.490499999],\n",
       "       [940437.8265000004, 4532577.728499999],\n",
       "       [940441.2684000004, 4532573.5513],\n",
       "       [940380.6917000003, 4532519.6328]]],\n",
       "     [[[940301.3647999996, 4532619.0503],\n",
       "       [940307.8958999999, 4532622.5503],\n",
       "       [940311.1458, 4532621.5503],\n",
       "       [940307.0210999995, 4532618.5503],\n",
       "       [940301.3647999996, 4532619.0503]]],\n",
       "     [[[940395.9238999998, 4532715.822000001],\n",
       "       [940393.9011000004, 4532712.8159],\n",
       "       [940337.0283000004, 4532772.420399999],\n",
       "       [940391.2791999998, 4532720.215],\n",
       "       [940395.9238999998, 4532715.822000001]]],\n",
       "     [[[947183.5400999999, 4533631.709000001],\n",
       "       [947181.4552999996, 4533629.791999999],\n",
       "       [947164.0420000004, 4533642.2656],\n",
       "       [947167.3294000002, 4533644.3388],\n",
       "       [947183.5400999999, 4533631.709000001]]],\n",
       "     [[[940301.3647999996, 4532619.0503],\n",
       "       [933028.7697000001, 4535460.389799999],\n",
       "       [941216.9914999995, 4542341.819399999],\n",
       "       [951318.2132000001, 4536759.5474],\n",
       "       [948698.6782, 4532567.238],\n",
       "       [944676.7476000004, 4534922.011399999],\n",
       "       [943876.7627999997, 4534868.011299999],\n",
       "       [940301.3647999996, 4532619.0503]]]]}},\n",
       "  {'id': '6169',\n",
       "   'type': 'Feature',\n",
       "   'properties': {'COD_RIP': 4,\n",
       "    'COD_REG': 16,\n",
       "    'COD_PROV': 75,\n",
       "    'COD_CM': 0,\n",
       "    'COD_UTS': 75,\n",
       "    'PRO_COM': 75096,\n",
       "    'PRO_COM_T': '075096',\n",
       "    'COMUNE': 'Castro',\n",
       "    'COMUNE_A': None,\n",
       "    'CC_UTS': 0,\n",
       "    'Shape_Leng': 11264.356382},\n",
       "   'geometry': {'type': 'Polygon',\n",
       "    'coordinates': [[[1305204.4375999998, 4473425.272],\n",
       "      [1305704.1769000003, 4470662.5451],\n",
       "      [1304499.9353, 4469789.8058],\n",
       "      [1302795.2028, 4470853.8003],\n",
       "      [1305204.4375999998, 4473425.272]]]}}],\n",
       " 'crs': {'type': 'name',\n",
       "  'properties': {'name': 'urn:ogc:def:crs:EPSG::32632'}}}"
      ]
     },
     "execution_count": 13,
     "metadata": {},
     "output_type": "execute_result"
    }
   ],
   "source": [
    "gdf = request_confini_amministrativi_comuni()\n",
    "sample = gdf[gdf.COMUNE.isin(COMUNI)]\n",
    "sample.loc[:, \"geometry\"] = sample.simplify(1e4)  # Serialize less points\n",
    "sample = json.loads(sample.to_json())\n",
    "sample"
   ]
  },
  {
   "cell_type": "code",
   "execution_count": 15,
   "metadata": {},
   "outputs": [],
   "source": [
    "gdf = gpd.GeoDataFrame.from_features(sample)"
   ]
  },
  {
   "cell_type": "code",
   "execution_count": 17,
   "metadata": {},
   "outputs": [],
   "source": [
    "gdf.crs = \"epsg:32632\""
   ]
  },
  {
   "cell_type": "code",
   "execution_count": 18,
   "metadata": {},
   "outputs": [
    {
     "data": {
      "text/plain": [
       "<Axes: >"
      ]
     },
     "execution_count": 18,
     "metadata": {},
     "output_type": "execute_result"
    },
    {
     "data": {
      "image/png": "[encoded data removed]",
      "text/plain": [
       "<Figure size 640x480 with 1 Axes>"
      ]
     },
     "metadata": {},
     "output_type": "display_data"
    }
   ],
   "source": [
    "gdf.plot()"
   ]
  },
  {
   "cell_type": "code",
   "execution_count": null,
   "metadata": {},
   "outputs": [],
   "source": []
  }
 ],
 "metadata": {
  "kernelspec": {
   "display_name": "spatial-italy-VdZKVYOf-py3.11",
   "language": "python",
   "name": "python3"
  },
  "language_info": {
   "codemirror_mode": {
    "name": "ipython",
    "version": 3
   },
   "file_extension": ".py",
   "mimetype": "text/x-python",
   "name": "python",
   "nbconvert_exporter": "python",
   "pygments_lexer": "ipython3",
   "version": "3.11.4"
  },
  "orig_nbformat": 4
 },
 "nbformat": 4,
 "nbformat_minor": 2
}
